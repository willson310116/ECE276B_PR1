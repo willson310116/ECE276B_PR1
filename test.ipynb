{
 "cells": [
  {
   "cell_type": "code",
   "execution_count": 29,
   "metadata": {},
   "outputs": [],
   "source": [
    "from utils import *\n",
    "from collections import deque\n",
    "from planning import *\n",
    "import copy "
   ]
  },
  {
   "cell_type": "code",
   "execution_count": 30,
   "metadata": {},
   "outputs": [],
   "source": [
    "def findShortestPath_test(start_pos, end_pos, info, env, all_door_unlock=False):\n",
    "    h, w = info['height'], info['width']\n",
    "    door_pos = info[\"door_pos\"]\n",
    "    if isinstance(door_pos, list):\n",
    "        door_list = [list(arr) for arr in door_pos]\n",
    "    else:\n",
    "        door_list = [list(door_pos)]\n",
    "        \n",
    "    # init dp matrix\n",
    "    dp = np.full((h ,w), float(\"inf\"))\n",
    "    dp[swap(start_pos)] = 0\n",
    "\n",
    "    # init parent matrix (for tracking path)\n",
    "    # note: position in parent is the previous pos of cur in env coordinate\n",
    "    parent = np.full((h ,w, 2), [-1,-1])\n",
    "\n",
    "    # nodes need to be visited next iteration\n",
    "    q = deque()\n",
    "    q.append(start_pos)\n",
    "\n",
    "    # size ensure to process nodes added in same iteration at the same time\n",
    "    size = len(q)\n",
    "    dir = [[1,0], [-1,0], [0,1], [0,-1]]\n",
    "    while True:\n",
    "        # print(q)\n",
    "        prev_dp = dp.copy()\n",
    "        for _ in range(size):\n",
    "            # print(prev_dp)\n",
    "            cur_pos = q.popleft()\n",
    "            # print(cur_pos)\n",
    "            for d in dir:\n",
    "                x = cur_pos[0] + d[0]\n",
    "                y = cur_pos[1] + d[1]\n",
    "                \n",
    "                # check boundary\n",
    "                if y < 0 or y >= h or x < 0 or x >= w:\n",
    "                    continue\n",
    "                \n",
    "                # if there's a way (assume door cant pass)\n",
    "                # TODO: need to consider door open/lock\n",
    "                if env.grid.get(x, y) == None or env.grid.get(x, y).type != \"wall\":\n",
    "                    # need to check door lock (no key)\n",
    "                    if not all_door_unlock:\n",
    "                        # check whether is door\n",
    "                        if [x, y] in door_list:\n",
    "                            door = env.grid.get(x, y)\n",
    "                            if door.is_locked:\n",
    "                                continue\n",
    "                    \n",
    "                    # if get key, no need to check door lock\n",
    "                    if dp[y][x] > dp[swap(cur_pos)]+1:\n",
    "                        dp[y][x] = dp[swap(cur_pos)]+1\n",
    "                        parent[y][x] = cur_pos\n",
    "                    if (x, y) not in q:\n",
    "                        q.append((x, y))\n",
    "\n",
    "        size = len(q)\n",
    "\n",
    "        if (checkVal(prev_dp, dp)):\n",
    "            break\n",
    "\n",
    "    cost = dp[swap(end_pos)]  \n",
    "    return cost, dp, parent"
   ]
  },
  {
   "cell_type": "code",
   "execution_count": 3,
   "metadata": {},
   "outputs": [
    {
     "name": "stdout",
     "output_type": "stream",
     "text": [
      "['envs/known_envs/doorkey-8x8-shortcut.env', 'envs/known_envs/example-8x8.env', 'envs/known_envs/doorkey-8x8-normal.env', 'envs/known_envs/doorkey-6x6-direct.env', 'envs/known_envs/doorkey-6x6-normal.env', 'envs/known_envs/doorkey-8x8-direct.env', 'envs/known_envs/doorkey-5x5-normal.env', 'envs/known_envs/doorkey-6x6-shortcut.env']\n"
     ]
    }
   ],
   "source": [
    "import glob\n",
    "fname = glob.glob(os.path.join(\"envs/known_envs/\", '*.env'))\n",
    "print(fname)"
   ]
  },
  {
   "cell_type": "code",
   "execution_count": null,
   "metadata": {},
   "outputs": [],
   "source": [
    "# test for known env (old)\n",
    "for i in range(len(fname)):\n",
    "    env_path = fname[i]\n",
    "    env, info = load_env(env_path)  # load an environment\n",
    "    # plot_env(env)\n",
    "    agent_pos = info['init_agent_pos']\n",
    "    goal_pos = info['goal_pos']\n",
    "    key_pos = info[\"key_pos\"]\n",
    "    door_pos = info[\"door_pos\"]\n",
    "\n",
    "    cost, path = getMinPath(env, info)\n",
    "    print(f\"Cost: {cost}\")\n",
    "    control, control_text = getMotion(env, path, info)\n",
    "\n",
    "    fn = env_path.split(\"/\")[-1].split(\".\")[0]\n",
    "    gif_path = f\"./gif/{fn}.gif\"\n",
    "    draw_gif_from_seq(control, load_env(env_path)[0], gif_path)  # draw a GIF & save"
   ]
  },
  {
   "cell_type": "code",
   "execution_count": 4,
   "metadata": {},
   "outputs": [],
   "source": [
    "def load():\n",
    "    env_folder = \"./envs/random_envs\"\n",
    "    env, info, env_path = load_random_env(env_folder)\n",
    "    return env, info, env_path"
   ]
  },
  {
   "cell_type": "code",
   "execution_count": 30,
   "metadata": {},
   "outputs": [
    {
     "data": {
      "text/plain": [
       "36"
      ]
     },
     "execution_count": 30,
     "metadata": {},
     "output_type": "execute_result"
    }
   ],
   "source": [
    "fname_rand = glob.glob(os.path.join(\"envs/random_envs/\", '*.env'))\n",
    "len(fname_rand)"
   ]
  },
  {
   "cell_type": "code",
   "execution_count": 31,
   "metadata": {},
   "outputs": [],
   "source": [
    "def getMinPath_test(env, info):\n",
    "    agent_pos = info['init_agent_pos']\n",
    "    goal_pos = info['goal_pos']\n",
    "    \n",
    "    key_pos = list(info[\"key_pos\"])\n",
    "    dir = [[1,0],[-1,0],[0,1],[0,-1]]\n",
    "    key_candidate = [[key_pos[0]+d[0], key_pos[1]+d[1]] for d in dir]\n",
    "\n",
    "    # direct\n",
    "    cost_dir, dp_dir, parent_dir = findShortestPath_test(agent_pos, goal_pos, info, env)\n",
    "\n",
    "    # get key, consider 4 diff key candidate position\n",
    "    cost_best_temp = float(\"inf\")\n",
    "    for key_cand_pos in key_candidate:\n",
    "        cost_key, dp_key, parent_key = findShortestPath_test(agent_pos, key_cand_pos, info, env, all_door_unlock=False)\n",
    "        cost_goal, dp_goal, parent_goal = findShortestPath_test(key_cand_pos, goal_pos, info, env, all_door_unlock=True)\n",
    "        if cost_key + cost_goal < cost_best_temp:\n",
    "            cost_best_temp = cost_key + cost_goal\n",
    "            key_pos_best = key_cand_pos\n",
    "            cost_key_best, dp_key_best, parent_key_best = cost_key, dp_key, parent_key\n",
    "            cost_goal_best, dp_goal_best, parent_goal_best = cost_goal, dp_goal, parent_goal\n",
    "\n",
    "    cost_key_total = cost_key_best + cost_goal_best\n",
    "\n",
    "    cost = -1\n",
    "    path = []\n",
    "\n",
    "    if (cost_dir <= cost_key_total):\n",
    "        cost = cost_dir\n",
    "        path += findPathFromParent(parent_dir, agent_pos, goal_pos)\n",
    "    else:\n",
    "        cost = cost_key_total\n",
    "        path += findPathFromParent(parent_key_best, agent_pos, key_pos_best)\n",
    "        if len(path) != 0:\n",
    "            path += [tuple(key_pos), path[-1]]\n",
    "        else:\n",
    "            path += [tuple(key_pos), agent_pos]\n",
    "        path += findPathFromParent(parent_goal_best, key_pos_best, goal_pos)\n",
    "    return cost, path"
   ]
  },
  {
   "cell_type": "code",
   "execution_count": null,
   "metadata": {},
   "outputs": [],
   "source": [
    "# test for known env\n",
    "for i in range(len(fname)):\n",
    "    env_path = fname[i]\n",
    "    env, info = load_env(env_path)  # load an environment\n",
    "    fn = env_path.split(\"/\")[-1].split(\".\")[0]\n",
    "    print(fn)\n",
    "\n",
    "    plot_env(env)\n",
    "    cost, path = getMinPath_test(env, info)\n",
    "    # print(cost)\n",
    "    # print(path)\n",
    "    control, control_text = getMotion(env, path, info)\n",
    "    print(control_text)\n",
    "    \n",
    "    # gif_path = f\"./gif/{fn}_test.gif\"\n",
    "    # draw_gif_from_seq(control, load_env(env_path)[0], gif_path)  # draw a GIF & save"
   ]
  },
  {
   "cell_type": "code",
   "execution_count": null,
   "metadata": {},
   "outputs": [],
   "source": [
    "import copy \n",
    "env_path = fname[0]\n",
    "env, info = load_env(env_path)  # load an environment\n",
    "env_copy = copy.deepcopy(env)\n",
    "fn = env_path.split(\"/\")[-1].split(\".\")[0]\n",
    "print(fn)\n",
    "\n",
    "plot_env(env)\n",
    "cost, path = getMinPath_test(env, info)\n",
    "# print(cost)\n",
    "# print(path)\n",
    "control, control_text = getMotion(env, path, info)\n",
    "print(control_text)\n",
    "plot_env(env_copy)"
   ]
  },
  {
   "cell_type": "code",
   "execution_count": 34,
   "metadata": {},
   "outputs": [
    {
     "name": "stdout",
     "output_type": "stream",
     "text": [
      "DoorKey-8x8-11\n"
     ]
    }
   ],
   "source": [
    "# test for random env\n",
    "env, info, env_path = load()\n",
    "env_copy = copy.deepcopy(env)\n",
    "fn = env_path.split(\"/\")[-1].split(\".\")[0]\n",
    "print(fn)"
   ]
  },
  {
   "cell_type": "code",
   "execution_count": 33,
   "metadata": {},
   "outputs": [
    {
     "data": {
      "image/png": "[encoded data removed]",
      "text/plain": [
       "<Figure size 300x300 with 1 Axes>"
      ]
     },
     "metadata": {},
     "output_type": "display_data"
    },
    {
     "name": "stdout",
     "output_type": "stream",
     "text": [
      "[(4, 5), (5, 5), (6, 5), (6, 4), (6, 3)]\n",
      "['TR', 'UD', 'MF', 'TR', 'MF', 'TR', 'MF', 'TR', 'MF', 'TR', 'MF']\n"
     ]
    }
   ],
   "source": [
    "plot_env(env)\n",
    "cost, path = getMinPath(env, info)\n",
    "# print(cost)\n",
    "print(path)\n",
    "control, control_text = getMotion(env, path, info)\n",
    "print(control_text)\n",
    "\n",
    "gif_path = f\"./gif/{fn}_rand_.gif\"\n",
    "# draw_gif_from_seq(control, env_copy, gif_path)  # draw a GIF & save"
   ]
  },
  {
   "cell_type": "code",
   "execution_count": 10,
   "metadata": {},
   "outputs": [
    {
     "name": "stdout",
     "output_type": "stream",
     "text": [
      "[1 6]\n",
      "[array([4, 2]), array([4, 5])]\n"
     ]
    }
   ],
   "source": [
    "key_pos = info[\"key_pos\"]\n",
    "door_pos = info[\"door_pos\"]\n",
    "print(key_pos)\n",
    "print(door_pos)"
   ]
  },
  {
   "cell_type": "code",
   "execution_count": 15,
   "metadata": {},
   "outputs": [
    {
     "data": {
      "text/plain": [
       "[array([4, 2]), array([4, 5])]"
      ]
     },
     "execution_count": 15,
     "metadata": {},
     "output_type": "execute_result"
    }
   ],
   "source": [
    "door_pos"
   ]
  },
  {
   "cell_type": "code",
   "execution_count": 16,
   "metadata": {},
   "outputs": [],
   "source": [
    "key_pos = info[\"key_pos\"]\n",
    "door_pos = info[\"door_pos\"]\n",
    "if isinstance(door_pos, list):\n",
    "    door_list = [list(arr) for arr in door_pos]\n",
    "else:\n",
    "    door_list = [list(door_pos)]\n",
    "control_all = []\n",
    "text_all = []\n",
    "i = 0\n",
    "\n",
    "while i < len(path):\n",
    "    control = []\n",
    "    text = []\n",
    "    agent_pos = env.agent_pos\n",
    "    next_pos = path[i]\n",
    "    # print(next_pos)\n",
    "\n",
    "    delta_pos = np.subtract(next_pos, agent_pos)\n",
    "    # print(f\"delta_pos: {delta_pos}\")\n",
    "\n",
    "    cur_dir = env.dir_vec\n",
    "    # print(f\"cur_dir: {cur_dir}\")\n",
    "\n",
    "    if (cur_dir == delta_pos).all():\n",
    "        control += [MF]\n",
    "        text += [\"MF\"]\n",
    "    elif (delta_pos == -1 * cur_dir).all():\n",
    "        control += [TR, TR, MF]\n",
    "        text += [\"TR\", \"TR\", \"MF\"]\n",
    "    else:\n",
    "        if np.cross(cur_dir, delta_pos).item() == -1:\n",
    "            control += [TL, MF]\n",
    "            text += [\"TL\", \"MF\"]\n",
    "        else:\n",
    "            control += [TR, MF]\n",
    "            text += [\"TR\", \"MF\"]\n",
    "\n",
    "    if list(next_pos) in door_list:\n",
    "        control.pop()\n",
    "        control += [UD, MF]\n",
    "        text.pop()\n",
    "        text += [\"UD\", \"MF\"]\n",
    "    \n",
    "    if (next_pos == key_pos).all():\n",
    "        # key -> PK, no need to MF\n",
    "        # not sure to pop\n",
    "        control.pop()\n",
    "        control += [PK]\n",
    "        text.pop()\n",
    "        text += [\"PK\"]\n",
    "        i += 1\n",
    "    \n",
    "    i += 1\n",
    "    control_all += control\n",
    "    text_all += text\n",
    "\n",
    "    for u in control:\n",
    "        step(env, u)\n",
    "        # plot_env(env)\n"
   ]
  },
  {
   "cell_type": "code",
   "execution_count": 17,
   "metadata": {},
   "outputs": [
    {
     "data": {
      "text/plain": [
       "['TR', 'UD', 'MF', 'TR', 'MF', 'TR', 'MF', 'TR', 'MF', 'TR', 'MF']"
      ]
     },
     "execution_count": 17,
     "metadata": {},
     "output_type": "execute_result"
    }
   ],
   "source": [
    "text_all"
   ]
  },
  {
   "cell_type": "code",
   "execution_count": 117,
   "metadata": {},
   "outputs": [],
   "source": [
    "agent_pos = info['init_agent_pos']\n",
    "goal_pos = info['goal_pos']\n",
    "key_pos = info[\"key_pos\"]\n",
    "start_pos = agent_pos\n",
    "end_pos = goal_pos\n",
    "all_door_unlock = False\n",
    "key_pos = list(info[\"key_pos\"])\n",
    "dir = [[1,0],[-1,0],[0,1],[0,-1]]\n",
    "key_candidate = [[key_pos[0]+d[0], key_pos[1]+d[1]] for d in dir]"
   ]
  },
  {
   "cell_type": "code",
   "execution_count": 118,
   "metadata": {},
   "outputs": [],
   "source": [
    "# direct\n",
    "cost_dir, dp_dir, parent_dir = findShortestPath_test(agent_pos, goal_pos, info, env)\n",
    "\n",
    "# get key, consider 4 diff key candidate position\n",
    "cost_best = float(\"inf\")\n",
    "for key_cand_pos in key_candidate:\n",
    "    cost_key, dp_key, parent_key = findShortestPath_test(agent_pos, key_cand_pos, info, env, all_door_unlock=False)\n",
    "    cost_goal, dp_goal, parent_goal = findShortestPath_test(key_cand_pos, goal_pos, info, env, all_door_unlock=True)\n",
    "    if cost_key + cost_goal < cost_best:\n",
    "        cost_best = cost_key + cost_goal\n",
    "        key_pos_best = key_cand_pos\n",
    "        cost_key_best, dp_key_best, parent_key_best = cost_key, dp_key, parent_key\n",
    "        cost_goal_best, dp_goal_best, parent_goal_best = cost_goal, dp_goal, parent_goal"
   ]
  },
  {
   "cell_type": "code",
   "execution_count": 119,
   "metadata": {},
   "outputs": [],
   "source": [
    "cost_key_total = cost_key_best + cost_goal_best\n",
    "\n",
    "cost = -1\n",
    "path = []\n",
    "\n",
    "if (cost_dir <= cost_key_total):\n",
    "    cost = cost_dir\n",
    "    path += findPathFromParent(parent_dir, agent_pos, goal_pos)\n",
    "else:\n",
    "    cost = cost_key_total\n",
    "    path += findPathFromParent(parent_key_best, agent_pos, key_pos_best)\n",
    "    if len(path) != 0:\n",
    "        path += [tuple(key_pos), path[-1]]\n",
    "    else:\n",
    "        path += [tuple(key_pos), agent_pos]\n",
    "    path += findPathFromParent(parent_goal_best, key_pos_best, goal_pos)"
   ]
  },
  {
   "cell_type": "code",
   "execution_count": 120,
   "metadata": {},
   "outputs": [
    {
     "data": {
      "image/png": "[encoded data removed]",
      "text/plain": [
       "<Figure size 300x300 with 1 Axes>"
      ]
     },
     "metadata": {},
     "output_type": "display_data"
    },
    {
     "name": "stdout",
     "output_type": "stream",
     "text": [
      "[(2, 5), (2, 6), (1, 6), (2, 6), (3, 6), (3, 5), (4, 5), (5, 5), (5, 6)]\n"
     ]
    }
   ],
   "source": [
    "plot_env(env)\n",
    "print(path)"
   ]
  },
  {
   "cell_type": "code",
   "execution_count": null,
   "metadata": {},
   "outputs": [],
   "source": []
  },
  {
   "cell_type": "code",
   "execution_count": null,
   "metadata": {},
   "outputs": [],
   "source": []
  }
 ],
 "metadata": {
  "kernelspec": {
   "display_name": "pr1",
   "language": "python",
   "name": "pr1"
  },
  "language_info": {
   "codemirror_mode": {
    "name": "ipython",
    "version": 3
   },
   "file_extension": ".py",
   "mimetype": "text/x-python",
   "name": "python",
   "nbconvert_exporter": "python",
   "pygments_lexer": "ipython3",
   "version": "3.9.16"
  },
  "orig_nbformat": 4,
  "vscode": {
   "interpreter": {
    "hash": "a665b5d41d17b532ea9890333293a1b812fa0b73c9c25c950b3cedf1bebd0438"
   }
  }
 },
 "nbformat": 4,
 "nbformat_minor": 2
}
